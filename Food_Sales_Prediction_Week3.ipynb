{
  "nbformat": 4,
  "nbformat_minor": 0,
  "metadata": {
    "colab": {
      "name": "Food Sales Prediction_Week3.ipynb",
      "provenance": [],
      "mount_file_id": "1DVS-DIBBeMLylVQWl_2ixPl8sRS8IMEz",
      "authorship_tag": "ABX9TyMpHdN5ONJ9F8XEZztLe/7s",
      "include_colab_link": true
    },
    "kernelspec": {
      "name": "python3",
      "display_name": "Python 3"
    },
    "language_info": {
      "name": "python"
    }
  },
  "cells": [
    {
      "cell_type": "markdown",
      "metadata": {
        "id": "view-in-github",
        "colab_type": "text"
      },
      "source": [
        "<a href=\"https://colab.research.google.com/github/jherrerae/Food_Sales_Prediction/blob/main/Food_Sales_Prediction_Week3.ipynb\" target=\"_parent\"><img src=\"https://colab.research.google.com/assets/colab-badge.svg\" alt=\"Open In Colab\"/></a>"
      ]
    },
    {
      "cell_type": "markdown",
      "source": [
        "\n",
        "\n",
        "```\n",
        "Jose Herrera\n",
        "Food Sales Prediction Project\n",
        "```\n",
        "\n"
      ],
      "metadata": {
        "id": "0LlSU63RLduh"
      }
    },
    {
      "cell_type": "markdown",
      "source": [
        "# **Week 1**"
      ],
      "metadata": {
        "id": "H48VQSl3Sr4D"
      }
    },
    {
      "cell_type": "code",
      "execution_count": 1,
      "metadata": {
        "colab": {
          "base_uri": "https://localhost:8080/",
          "height": 374
        },
        "id": "3szdGhblYtbl",
        "outputId": "950c1a68-14c4-43d0-d780-017fa90f6f1f"
      },
      "outputs": [
        {
          "output_type": "stream",
          "name": "stdout",
          "text": [
            "Mounted at /content/drive\n"
          ]
        },
        {
          "output_type": "execute_result",
          "data": {
            "text/plain": [
              "  Item_Identifier  Item_Weight Item_Fat_Content  Item_Visibility  \\\n",
              "0           FDA15         9.30          Low Fat         0.016047   \n",
              "1           DRC01         5.92          Regular         0.019278   \n",
              "2           FDN15        17.50          Low Fat         0.016760   \n",
              "3           FDX07        19.20          Regular         0.000000   \n",
              "4           NCD19         8.93          Low Fat         0.000000   \n",
              "\n",
              "               Item_Type  Item_MRP Outlet_Identifier  \\\n",
              "0                  Dairy  249.8092            OUT049   \n",
              "1            Soft Drinks   48.2692            OUT018   \n",
              "2                   Meat  141.6180            OUT049   \n",
              "3  Fruits and Vegetables  182.0950            OUT010   \n",
              "4              Household   53.8614            OUT013   \n",
              "\n",
              "   Outlet_Establishment_Year Outlet_Size Outlet_Location_Type  \\\n",
              "0                       1999      Medium               Tier 1   \n",
              "1                       2009      Medium               Tier 3   \n",
              "2                       1999      Medium               Tier 1   \n",
              "3                       1998         NaN               Tier 3   \n",
              "4                       1987        High               Tier 3   \n",
              "\n",
              "         Outlet_Type  Item_Outlet_Sales  \n",
              "0  Supermarket Type1          3735.1380  \n",
              "1  Supermarket Type2           443.4228  \n",
              "2  Supermarket Type1          2097.2700  \n",
              "3      Grocery Store           732.3800  \n",
              "4  Supermarket Type1           994.7052  "
            ],
            "text/html": [
              "\n",
              "  <div id=\"df-353f7f25-f0db-441a-8480-546801ec9783\">\n",
              "    <div class=\"colab-df-container\">\n",
              "      <div>\n",
              "<style scoped>\n",
              "    .dataframe tbody tr th:only-of-type {\n",
              "        vertical-align: middle;\n",
              "    }\n",
              "\n",
              "    .dataframe tbody tr th {\n",
              "        vertical-align: top;\n",
              "    }\n",
              "\n",
              "    .dataframe thead th {\n",
              "        text-align: right;\n",
              "    }\n",
              "</style>\n",
              "<table border=\"1\" class=\"dataframe\">\n",
              "  <thead>\n",
              "    <tr style=\"text-align: right;\">\n",
              "      <th></th>\n",
              "      <th>Item_Identifier</th>\n",
              "      <th>Item_Weight</th>\n",
              "      <th>Item_Fat_Content</th>\n",
              "      <th>Item_Visibility</th>\n",
              "      <th>Item_Type</th>\n",
              "      <th>Item_MRP</th>\n",
              "      <th>Outlet_Identifier</th>\n",
              "      <th>Outlet_Establishment_Year</th>\n",
              "      <th>Outlet_Size</th>\n",
              "      <th>Outlet_Location_Type</th>\n",
              "      <th>Outlet_Type</th>\n",
              "      <th>Item_Outlet_Sales</th>\n",
              "    </tr>\n",
              "  </thead>\n",
              "  <tbody>\n",
              "    <tr>\n",
              "      <th>0</th>\n",
              "      <td>FDA15</td>\n",
              "      <td>9.30</td>\n",
              "      <td>Low Fat</td>\n",
              "      <td>0.016047</td>\n",
              "      <td>Dairy</td>\n",
              "      <td>249.8092</td>\n",
              "      <td>OUT049</td>\n",
              "      <td>1999</td>\n",
              "      <td>Medium</td>\n",
              "      <td>Tier 1</td>\n",
              "      <td>Supermarket Type1</td>\n",
              "      <td>3735.1380</td>\n",
              "    </tr>\n",
              "    <tr>\n",
              "      <th>1</th>\n",
              "      <td>DRC01</td>\n",
              "      <td>5.92</td>\n",
              "      <td>Regular</td>\n",
              "      <td>0.019278</td>\n",
              "      <td>Soft Drinks</td>\n",
              "      <td>48.2692</td>\n",
              "      <td>OUT018</td>\n",
              "      <td>2009</td>\n",
              "      <td>Medium</td>\n",
              "      <td>Tier 3</td>\n",
              "      <td>Supermarket Type2</td>\n",
              "      <td>443.4228</td>\n",
              "    </tr>\n",
              "    <tr>\n",
              "      <th>2</th>\n",
              "      <td>FDN15</td>\n",
              "      <td>17.50</td>\n",
              "      <td>Low Fat</td>\n",
              "      <td>0.016760</td>\n",
              "      <td>Meat</td>\n",
              "      <td>141.6180</td>\n",
              "      <td>OUT049</td>\n",
              "      <td>1999</td>\n",
              "      <td>Medium</td>\n",
              "      <td>Tier 1</td>\n",
              "      <td>Supermarket Type1</td>\n",
              "      <td>2097.2700</td>\n",
              "    </tr>\n",
              "    <tr>\n",
              "      <th>3</th>\n",
              "      <td>FDX07</td>\n",
              "      <td>19.20</td>\n",
              "      <td>Regular</td>\n",
              "      <td>0.000000</td>\n",
              "      <td>Fruits and Vegetables</td>\n",
              "      <td>182.0950</td>\n",
              "      <td>OUT010</td>\n",
              "      <td>1998</td>\n",
              "      <td>NaN</td>\n",
              "      <td>Tier 3</td>\n",
              "      <td>Grocery Store</td>\n",
              "      <td>732.3800</td>\n",
              "    </tr>\n",
              "    <tr>\n",
              "      <th>4</th>\n",
              "      <td>NCD19</td>\n",
              "      <td>8.93</td>\n",
              "      <td>Low Fat</td>\n",
              "      <td>0.000000</td>\n",
              "      <td>Household</td>\n",
              "      <td>53.8614</td>\n",
              "      <td>OUT013</td>\n",
              "      <td>1987</td>\n",
              "      <td>High</td>\n",
              "      <td>Tier 3</td>\n",
              "      <td>Supermarket Type1</td>\n",
              "      <td>994.7052</td>\n",
              "    </tr>\n",
              "  </tbody>\n",
              "</table>\n",
              "</div>\n",
              "      <button class=\"colab-df-convert\" onclick=\"convertToInteractive('df-353f7f25-f0db-441a-8480-546801ec9783')\"\n",
              "              title=\"Convert this dataframe to an interactive table.\"\n",
              "              style=\"display:none;\">\n",
              "        \n",
              "  <svg xmlns=\"http://www.w3.org/2000/svg\" height=\"24px\"viewBox=\"0 0 24 24\"\n",
              "       width=\"24px\">\n",
              "    <path d=\"M0 0h24v24H0V0z\" fill=\"none\"/>\n",
              "    <path d=\"M18.56 5.44l.94 2.06.94-2.06 2.06-.94-2.06-.94-.94-2.06-.94 2.06-2.06.94zm-11 1L8.5 8.5l.94-2.06 2.06-.94-2.06-.94L8.5 2.5l-.94 2.06-2.06.94zm10 10l.94 2.06.94-2.06 2.06-.94-2.06-.94-.94-2.06-.94 2.06-2.06.94z\"/><path d=\"M17.41 7.96l-1.37-1.37c-.4-.4-.92-.59-1.43-.59-.52 0-1.04.2-1.43.59L10.3 9.45l-7.72 7.72c-.78.78-.78 2.05 0 2.83L4 21.41c.39.39.9.59 1.41.59.51 0 1.02-.2 1.41-.59l7.78-7.78 2.81-2.81c.8-.78.8-2.07 0-2.86zM5.41 20L4 18.59l7.72-7.72 1.47 1.35L5.41 20z\"/>\n",
              "  </svg>\n",
              "      </button>\n",
              "      \n",
              "  <style>\n",
              "    .colab-df-container {\n",
              "      display:flex;\n",
              "      flex-wrap:wrap;\n",
              "      gap: 12px;\n",
              "    }\n",
              "\n",
              "    .colab-df-convert {\n",
              "      background-color: #E8F0FE;\n",
              "      border: none;\n",
              "      border-radius: 50%;\n",
              "      cursor: pointer;\n",
              "      display: none;\n",
              "      fill: #1967D2;\n",
              "      height: 32px;\n",
              "      padding: 0 0 0 0;\n",
              "      width: 32px;\n",
              "    }\n",
              "\n",
              "    .colab-df-convert:hover {\n",
              "      background-color: #E2EBFA;\n",
              "      box-shadow: 0px 1px 2px rgba(60, 64, 67, 0.3), 0px 1px 3px 1px rgba(60, 64, 67, 0.15);\n",
              "      fill: #174EA6;\n",
              "    }\n",
              "\n",
              "    [theme=dark] .colab-df-convert {\n",
              "      background-color: #3B4455;\n",
              "      fill: #D2E3FC;\n",
              "    }\n",
              "\n",
              "    [theme=dark] .colab-df-convert:hover {\n",
              "      background-color: #434B5C;\n",
              "      box-shadow: 0px 1px 3px 1px rgba(0, 0, 0, 0.15);\n",
              "      filter: drop-shadow(0px 1px 2px rgba(0, 0, 0, 0.3));\n",
              "      fill: #FFFFFF;\n",
              "    }\n",
              "  </style>\n",
              "\n",
              "      <script>\n",
              "        const buttonEl =\n",
              "          document.querySelector('#df-353f7f25-f0db-441a-8480-546801ec9783 button.colab-df-convert');\n",
              "        buttonEl.style.display =\n",
              "          google.colab.kernel.accessAllowed ? 'block' : 'none';\n",
              "\n",
              "        async function convertToInteractive(key) {\n",
              "          const element = document.querySelector('#df-353f7f25-f0db-441a-8480-546801ec9783');\n",
              "          const dataTable =\n",
              "            await google.colab.kernel.invokeFunction('convertToInteractive',\n",
              "                                                     [key], {});\n",
              "          if (!dataTable) return;\n",
              "\n",
              "          const docLinkHtml = 'Like what you see? Visit the ' +\n",
              "            '<a target=\"_blank\" href=https://colab.research.google.com/notebooks/data_table.ipynb>data table notebook</a>'\n",
              "            + ' to learn more about interactive tables.';\n",
              "          element.innerHTML = '';\n",
              "          dataTable['output_type'] = 'display_data';\n",
              "          await google.colab.output.renderOutput(dataTable, element);\n",
              "          const docLink = document.createElement('div');\n",
              "          docLink.innerHTML = docLinkHtml;\n",
              "          element.appendChild(docLink);\n",
              "        }\n",
              "      </script>\n",
              "    </div>\n",
              "  </div>\n",
              "  "
            ]
          },
          "metadata": {},
          "execution_count": 1
        }
      ],
      "source": [
        "from google.colab import drive\n",
        "drive.mount('/content/drive')\n",
        "\n",
        "import pandas as pd\n",
        "filename='/content/drive/MyDrive/Coding Dojo/Classes/Datasets/sales_predictions.csv'\n",
        "\n",
        "df=pd.read_csv(filename)\n",
        "df.head()"
      ]
    },
    {
      "cell_type": "markdown",
      "source": [
        "# **Week 2**\n",
        "\n",
        "Data Cleaning"
      ],
      "metadata": {
        "id": "ZqXetEJ1Sx25"
      }
    },
    {
      "cell_type": "code",
      "source": [
        "#number of rows and columns\n",
        "df.shape"
      ],
      "metadata": {
        "colab": {
          "base_uri": "https://localhost:8080/"
        },
        "id": "lBYyWeBQS0aH",
        "outputId": "7c0f528d-dd3a-4fbf-fc24-a03f0cd9e4f7"
      },
      "execution_count": 2,
      "outputs": [
        {
          "output_type": "execute_result",
          "data": {
            "text/plain": [
              "(8523, 12)"
            ]
          },
          "metadata": {},
          "execution_count": 2
        }
      ]
    },
    {
      "cell_type": "code",
      "source": [
        "df.info()\n",
        "#Analyze data types and where are missing values.\n",
        "#Missing values are on Item_Weight, Outlet_Size"
      ],
      "metadata": {
        "colab": {
          "base_uri": "https://localhost:8080/"
        },
        "id": "FtcJYOMGTwY7",
        "outputId": "4f93723d-edb5-478e-f7da-e943f15cf239"
      },
      "execution_count": 3,
      "outputs": [
        {
          "output_type": "stream",
          "name": "stdout",
          "text": [
            "<class 'pandas.core.frame.DataFrame'>\n",
            "RangeIndex: 8523 entries, 0 to 8522\n",
            "Data columns (total 12 columns):\n",
            " #   Column                     Non-Null Count  Dtype  \n",
            "---  ------                     --------------  -----  \n",
            " 0   Item_Identifier            8523 non-null   object \n",
            " 1   Item_Weight                7060 non-null   float64\n",
            " 2   Item_Fat_Content           8523 non-null   object \n",
            " 3   Item_Visibility            8523 non-null   float64\n",
            " 4   Item_Type                  8523 non-null   object \n",
            " 5   Item_MRP                   8523 non-null   float64\n",
            " 6   Outlet_Identifier          8523 non-null   object \n",
            " 7   Outlet_Establishment_Year  8523 non-null   int64  \n",
            " 8   Outlet_Size                6113 non-null   object \n",
            " 9   Outlet_Location_Type       8523 non-null   object \n",
            " 10  Outlet_Type                8523 non-null   object \n",
            " 11  Item_Outlet_Sales          8523 non-null   float64\n",
            "dtypes: float64(4), int64(1), object(7)\n",
            "memory usage: 799.2+ KB\n"
          ]
        }
      ]
    },
    {
      "cell_type": "code",
      "source": [
        "##Remove duplicates\n",
        "df.duplicated().sum()\n",
        "\n",
        "#There are no duplicated values in the dataset."
      ],
      "metadata": {
        "colab": {
          "base_uri": "https://localhost:8080/"
        },
        "id": "_SVYk0KsVohZ",
        "outputId": "5c7fd54c-b543-48a1-e49e-9aa546a20512"
      },
      "execution_count": 4,
      "outputs": [
        {
          "output_type": "execute_result",
          "data": {
            "text/plain": [
              "0"
            ]
          },
          "metadata": {},
          "execution_count": 4
        }
      ]
    },
    {
      "cell_type": "code",
      "source": [
        "#Missing values are in columns 1,8.\n",
        "#1 is weight which is numerical, 17% of the data is missing\n",
        "#2 is Outlet Size which is categorical, 29% of the data is missing\n",
        "\n",
        "df.isna().sum()"
      ],
      "metadata": {
        "colab": {
          "base_uri": "https://localhost:8080/"
        },
        "id": "cYkY1bjqYVJr",
        "outputId": "d2776bbc-0fb7-4bf7-9e47-daa6c6a90f28"
      },
      "execution_count": 5,
      "outputs": [
        {
          "output_type": "execute_result",
          "data": {
            "text/plain": [
              "Item_Identifier                 0\n",
              "Item_Weight                  1463\n",
              "Item_Fat_Content                0\n",
              "Item_Visibility                 0\n",
              "Item_Type                       0\n",
              "Item_MRP                        0\n",
              "Outlet_Identifier               0\n",
              "Outlet_Establishment_Year       0\n",
              "Outlet_Size                  2410\n",
              "Outlet_Location_Type            0\n",
              "Outlet_Type                     0\n",
              "Item_Outlet_Sales               0\n",
              "dtype: int64"
            ]
          },
          "metadata": {},
          "execution_count": 5
        }
      ]
    },
    {
      "cell_type": "markdown",
      "source": [
        "\n",
        "\n",
        "```\n",
        "##Process to fill missing values Outlet_Size\n",
        " ```\n",
        "\n"
      ],
      "metadata": {
        "id": "e3b31LXV0Lf4"
      }
    },
    {
      "cell_type": "code",
      "source": [
        "df.groupby(['Outlet_Type','Outlet_Location_Type','Outlet_Size'],dropna=False)['Item_Fat_Content'].count()"
      ],
      "metadata": {
        "colab": {
          "base_uri": "https://localhost:8080/"
        },
        "id": "6IiWE00lZitH",
        "outputId": "49a82585-8eb9-40cd-9040-b0d33fc389ea"
      },
      "execution_count": 6,
      "outputs": [
        {
          "output_type": "execute_result",
          "data": {
            "text/plain": [
              "Outlet_Type        Outlet_Location_Type  Outlet_Size\n",
              "Grocery Store      Tier 1                Small           528\n",
              "                   Tier 3                NaN             555\n",
              "Supermarket Type1  Tier 1                Medium          930\n",
              "                                         Small           930\n",
              "                   Tier 2                Small           930\n",
              "                                         NaN            1855\n",
              "                   Tier 3                High            932\n",
              "Supermarket Type2  Tier 3                Medium          928\n",
              "Supermarket Type3  Tier 3                Medium          935\n",
              "Name: Item_Fat_Content, dtype: int64"
            ]
          },
          "metadata": {},
          "execution_count": 6
        }
      ]
    },
    {
      "cell_type": "markdown",
      "source": [
        "Based in the groupby done above. The missing values for Outlet_Size are in the following groups Grocery Store_Tier 3 and Supermarket Type1_Tier2.\n",
        "The following process will be follow to fill the values:\n",
        "\n",
        "Since Outlet_Size is a categorical value, we will use the mode and some groups to fill it out.\n",
        "\n",
        "First, for Grocery Store given that for Tier 3 we don't have any data we will use the other Tier inside grocery store which are Tier 1 and everything is Small. Therefore for Grocery Store_Tier3 all the missing values will be small.\n",
        "\n",
        "Second, for Supermarket Type1, everything inside Tier 2 is small and if we add Tire 1 and 3 still the mode is Small. Therefore for Supermarket Type1_Tier 2 all the missing values will be small."
      ],
      "metadata": {
        "id": "4lz8O7qT6TZ5"
      }
    },
    {
      "cell_type": "code",
      "source": [
        "def fill_missing_values(Type,location,size):\n",
        "  if (Type==\"Grocery Store\" and location==\"Tier 3\"):\n",
        "      return \"Small\"\n",
        "  elif (Type==\"Supermarket Type1\" and location==\"Tier 2\"):\n",
        "      return \"Small\"\n",
        "  else:\n",
        "    return size\n",
        "\n",
        "\n",
        "df['Outlet_Size'] = df.apply(lambda x: fill_missing_values(x['Outlet_Type'],x['Outlet_Location_Type'],x['Outlet_Size']),axis=1)\n"
      ],
      "metadata": {
        "id": "znSS9d7r9Zkp"
      },
      "execution_count": 7,
      "outputs": []
    },
    {
      "cell_type": "code",
      "source": [
        "df.isna().sum()\n",
        "#Missing values replaced for Outlet_Size"
      ],
      "metadata": {
        "colab": {
          "base_uri": "https://localhost:8080/"
        },
        "id": "pZj5qCgc_RvD",
        "outputId": "d9f4209b-159d-4d9e-e81f-2e323f8918f2"
      },
      "execution_count": 8,
      "outputs": [
        {
          "output_type": "execute_result",
          "data": {
            "text/plain": [
              "Item_Identifier                 0\n",
              "Item_Weight                  1463\n",
              "Item_Fat_Content                0\n",
              "Item_Visibility                 0\n",
              "Item_Type                       0\n",
              "Item_MRP                        0\n",
              "Outlet_Identifier               0\n",
              "Outlet_Establishment_Year       0\n",
              "Outlet_Size                     0\n",
              "Outlet_Location_Type            0\n",
              "Outlet_Type                     0\n",
              "Item_Outlet_Sales               0\n",
              "dtype: int64"
            ]
          },
          "metadata": {},
          "execution_count": 8
        }
      ]
    },
    {
      "cell_type": "code",
      "source": [
        "filter_NAN_weigth=df[\"Item_Weight\"].isnull()\n",
        "\n",
        "df_NAN_weight=df[filter_NAN_weigth]\n",
        "\n",
        "\n",
        "df_NAN_weight.shape\n",
        "\n",
        "df_NAN_weight.groupby(['Outlet_Establishment_Year','Outlet_Type','Outlet_Location_Type'])['Outlet_Type'].count()"
      ],
      "metadata": {
        "colab": {
          "base_uri": "https://localhost:8080/"
        },
        "id": "jgaCxZXGnNWM",
        "outputId": "74b5eff5-5aed-478c-98d7-776973e14739"
      },
      "execution_count": 9,
      "outputs": [
        {
          "output_type": "execute_result",
          "data": {
            "text/plain": [
              "Outlet_Establishment_Year  Outlet_Type        Outlet_Location_Type\n",
              "1985                       Grocery Store      Tier 1                  528\n",
              "                           Supermarket Type3  Tier 3                  935\n",
              "Name: Outlet_Type, dtype: int64"
            ]
          },
          "metadata": {},
          "execution_count": 9
        }
      ]
    },
    {
      "cell_type": "code",
      "source": [
        "filter_weigth=df[\"Item_Weight\"].notnull()\n",
        "\n",
        "df_weight=df[filter_weigth]\n",
        "\n",
        "df_weight\n",
        "\n",
        "df_weight.shape\n",
        "\n",
        "df_weight.groupby(['Outlet_Establishment_Year','Outlet_Type','Outlet_Location_Type'])['Outlet_Type'].count()"
      ],
      "metadata": {
        "colab": {
          "base_uri": "https://localhost:8080/"
        },
        "id": "L654nfpiyTf0",
        "outputId": "b1b2b533-9129-40a7-ae68-f441d6a07485"
      },
      "execution_count": 10,
      "outputs": [
        {
          "output_type": "execute_result",
          "data": {
            "text/plain": [
              "Outlet_Establishment_Year  Outlet_Type        Outlet_Location_Type\n",
              "1987                       Supermarket Type1  Tier 3                  932\n",
              "1997                       Supermarket Type1  Tier 1                  930\n",
              "1998                       Grocery Store      Tier 3                  555\n",
              "1999                       Supermarket Type1  Tier 1                  930\n",
              "2002                       Supermarket Type1  Tier 2                  929\n",
              "2004                       Supermarket Type1  Tier 2                  930\n",
              "2007                       Supermarket Type1  Tier 2                  926\n",
              "2009                       Supermarket Type2  Tier 3                  928\n",
              "Name: Outlet_Type, dtype: int64"
            ]
          },
          "metadata": {},
          "execution_count": 10
        }
      ]
    },
    {
      "cell_type": "markdown",
      "source": [
        "After analyzing the missing and non-missing values for Item_Weight none feasible groupings where found. Therefore a simple replace will be made using the mean of the weight.\n"
      ],
      "metadata": {
        "id": "M77qLDsKMdhf"
      }
    },
    {
      "cell_type": "code",
      "source": [
        "mean_weight=df[\"Item_Weight\"].mean()\n",
        "df['Item_Weight'].fillna(mean_weight, inplace=True)"
      ],
      "metadata": {
        "id": "4-sgazXsM4V2"
      },
      "execution_count": 11,
      "outputs": []
    },
    {
      "cell_type": "code",
      "source": [
        "df.isna().sum()\n",
        "#Missing values replaced for Item_Weight\n",
        "#No missing values left"
      ],
      "metadata": {
        "colab": {
          "base_uri": "https://localhost:8080/"
        },
        "id": "kXm_LBPGNQe0",
        "outputId": "0dff44e3-8ae0-43d2-e196-26ce1c89101d"
      },
      "execution_count": 12,
      "outputs": [
        {
          "output_type": "execute_result",
          "data": {
            "text/plain": [
              "Item_Identifier              0\n",
              "Item_Weight                  0\n",
              "Item_Fat_Content             0\n",
              "Item_Visibility              0\n",
              "Item_Type                    0\n",
              "Item_MRP                     0\n",
              "Outlet_Identifier            0\n",
              "Outlet_Establishment_Year    0\n",
              "Outlet_Size                  0\n",
              "Outlet_Location_Type         0\n",
              "Outlet_Type                  0\n",
              "Item_Outlet_Sales            0\n",
              "dtype: int64"
            ]
          },
          "metadata": {},
          "execution_count": 12
        }
      ]
    },
    {
      "cell_type": "markdown",
      "source": [
        "Checking for inconsistencies in the different categories"
      ],
      "metadata": {
        "id": "zPKd25L8N8jU"
      }
    },
    {
      "cell_type": "code",
      "source": [
        "df.groupby(['Item_Fat_Content'],dropna=False)['Outlet_Size'].count()\n",
        "\n",
        "#Item_Fat_Content has several inconsistencies in the naming convention"
      ],
      "metadata": {
        "colab": {
          "base_uri": "https://localhost:8080/"
        },
        "id": "5xHqB5iv7XtM",
        "outputId": "fa21e418-f245-4c28-830b-540f456d1173"
      },
      "execution_count": 13,
      "outputs": [
        {
          "output_type": "execute_result",
          "data": {
            "text/plain": [
              "Item_Fat_Content\n",
              "LF          316\n",
              "Low Fat    5089\n",
              "Regular    2889\n",
              "low fat     112\n",
              "reg         117\n",
              "Name: Outlet_Size, dtype: int64"
            ]
          },
          "metadata": {},
          "execution_count": 13
        }
      ]
    },
    {
      "cell_type": "code",
      "source": [
        "#Correct naming convention for Item_Fat_Content\n",
        "def renaming(word):\n",
        "  if (word==\"LF\"):\n",
        "      return \"Low Fat\"\n",
        "  elif (word==\"low fat\"):\n",
        "      return \"Low Fat\"\n",
        "  elif  word==\"reg\":\n",
        "      return \"Regular\"\n",
        "  else:\n",
        "      return word\n",
        "\n",
        "\n",
        "df['Item_Fat_Content'] = df.apply(lambda x: renaming(x['Item_Fat_Content']),axis=1)\n"
      ],
      "metadata": {
        "id": "QUEIzJnIOrJ5"
      },
      "execution_count": 14,
      "outputs": []
    },
    {
      "cell_type": "code",
      "source": [
        "df.groupby(['Item_Fat_Content'],dropna=False)['Outlet_Size'].count()\n",
        "#Item_Fat_Content rename correctly"
      ],
      "metadata": {
        "colab": {
          "base_uri": "https://localhost:8080/"
        },
        "id": "6ylTIgACOUSo",
        "outputId": "13c7ae53-0b3b-425d-ca28-c6a5f61b8f63"
      },
      "execution_count": 15,
      "outputs": [
        {
          "output_type": "execute_result",
          "data": {
            "text/plain": [
              "Item_Fat_Content\n",
              "Low Fat    5517\n",
              "Regular    3006\n",
              "Name: Outlet_Size, dtype: int64"
            ]
          },
          "metadata": {},
          "execution_count": 15
        }
      ]
    },
    {
      "cell_type": "code",
      "source": [
        "df.agg(\n",
        "    {\n",
        "        \"Item_Weight\": ['mean',\"min\", \"max\"],\n",
        "        \"Item_Visibility\": ['mean',\"min\", \"max\"],\n",
        "        \"Item_MRP\": ['mean',\"min\", \"max\"],\n",
        "        \"Outlet_Establishment_Year\": ['mean',\"min\", \"max\"],\n",
        "        \"Item_Outlet_Sales\": ['mean',\"min\", \"max\"],\n",
        "    }\n",
        ")\n",
        "\n",
        "#description of numerical variables"
      ],
      "metadata": {
        "colab": {
          "base_uri": "https://localhost:8080/",
          "height": 143
        },
        "id": "KCVa1CzqUdwk",
        "outputId": "d00f70a8-7f73-4806-8367-f67e4812b690"
      },
      "execution_count": 16,
      "outputs": [
        {
          "output_type": "execute_result",
          "data": {
            "text/plain": [
              "      Item_Weight  Item_Visibility    Item_MRP  Outlet_Establishment_Year  \\\n",
              "mean    12.857645         0.066132  140.992782                1997.831867   \n",
              "min      4.555000         0.000000   31.290000                1985.000000   \n",
              "max     21.350000         0.328391  266.888400                2009.000000   \n",
              "\n",
              "      Item_Outlet_Sales  \n",
              "mean        2181.288914  \n",
              "min           33.290000  \n",
              "max        13086.964800  "
            ],
            "text/html": [
              "\n",
              "  <div id=\"df-cf70a6a6-f37c-46ca-b4e8-48eb9cc8a85c\">\n",
              "    <div class=\"colab-df-container\">\n",
              "      <div>\n",
              "<style scoped>\n",
              "    .dataframe tbody tr th:only-of-type {\n",
              "        vertical-align: middle;\n",
              "    }\n",
              "\n",
              "    .dataframe tbody tr th {\n",
              "        vertical-align: top;\n",
              "    }\n",
              "\n",
              "    .dataframe thead th {\n",
              "        text-align: right;\n",
              "    }\n",
              "</style>\n",
              "<table border=\"1\" class=\"dataframe\">\n",
              "  <thead>\n",
              "    <tr style=\"text-align: right;\">\n",
              "      <th></th>\n",
              "      <th>Item_Weight</th>\n",
              "      <th>Item_Visibility</th>\n",
              "      <th>Item_MRP</th>\n",
              "      <th>Outlet_Establishment_Year</th>\n",
              "      <th>Item_Outlet_Sales</th>\n",
              "    </tr>\n",
              "  </thead>\n",
              "  <tbody>\n",
              "    <tr>\n",
              "      <th>mean</th>\n",
              "      <td>12.857645</td>\n",
              "      <td>0.066132</td>\n",
              "      <td>140.992782</td>\n",
              "      <td>1997.831867</td>\n",
              "      <td>2181.288914</td>\n",
              "    </tr>\n",
              "    <tr>\n",
              "      <th>min</th>\n",
              "      <td>4.555000</td>\n",
              "      <td>0.000000</td>\n",
              "      <td>31.290000</td>\n",
              "      <td>1985.000000</td>\n",
              "      <td>33.290000</td>\n",
              "    </tr>\n",
              "    <tr>\n",
              "      <th>max</th>\n",
              "      <td>21.350000</td>\n",
              "      <td>0.328391</td>\n",
              "      <td>266.888400</td>\n",
              "      <td>2009.000000</td>\n",
              "      <td>13086.964800</td>\n",
              "    </tr>\n",
              "  </tbody>\n",
              "</table>\n",
              "</div>\n",
              "      <button class=\"colab-df-convert\" onclick=\"convertToInteractive('df-cf70a6a6-f37c-46ca-b4e8-48eb9cc8a85c')\"\n",
              "              title=\"Convert this dataframe to an interactive table.\"\n",
              "              style=\"display:none;\">\n",
              "        \n",
              "  <svg xmlns=\"http://www.w3.org/2000/svg\" height=\"24px\"viewBox=\"0 0 24 24\"\n",
              "       width=\"24px\">\n",
              "    <path d=\"M0 0h24v24H0V0z\" fill=\"none\"/>\n",
              "    <path d=\"M18.56 5.44l.94 2.06.94-2.06 2.06-.94-2.06-.94-.94-2.06-.94 2.06-2.06.94zm-11 1L8.5 8.5l.94-2.06 2.06-.94-2.06-.94L8.5 2.5l-.94 2.06-2.06.94zm10 10l.94 2.06.94-2.06 2.06-.94-2.06-.94-.94-2.06-.94 2.06-2.06.94z\"/><path d=\"M17.41 7.96l-1.37-1.37c-.4-.4-.92-.59-1.43-.59-.52 0-1.04.2-1.43.59L10.3 9.45l-7.72 7.72c-.78.78-.78 2.05 0 2.83L4 21.41c.39.39.9.59 1.41.59.51 0 1.02-.2 1.41-.59l7.78-7.78 2.81-2.81c.8-.78.8-2.07 0-2.86zM5.41 20L4 18.59l7.72-7.72 1.47 1.35L5.41 20z\"/>\n",
              "  </svg>\n",
              "      </button>\n",
              "      \n",
              "  <style>\n",
              "    .colab-df-container {\n",
              "      display:flex;\n",
              "      flex-wrap:wrap;\n",
              "      gap: 12px;\n",
              "    }\n",
              "\n",
              "    .colab-df-convert {\n",
              "      background-color: #E8F0FE;\n",
              "      border: none;\n",
              "      border-radius: 50%;\n",
              "      cursor: pointer;\n",
              "      display: none;\n",
              "      fill: #1967D2;\n",
              "      height: 32px;\n",
              "      padding: 0 0 0 0;\n",
              "      width: 32px;\n",
              "    }\n",
              "\n",
              "    .colab-df-convert:hover {\n",
              "      background-color: #E2EBFA;\n",
              "      box-shadow: 0px 1px 2px rgba(60, 64, 67, 0.3), 0px 1px 3px 1px rgba(60, 64, 67, 0.15);\n",
              "      fill: #174EA6;\n",
              "    }\n",
              "\n",
              "    [theme=dark] .colab-df-convert {\n",
              "      background-color: #3B4455;\n",
              "      fill: #D2E3FC;\n",
              "    }\n",
              "\n",
              "    [theme=dark] .colab-df-convert:hover {\n",
              "      background-color: #434B5C;\n",
              "      box-shadow: 0px 1px 3px 1px rgba(0, 0, 0, 0.15);\n",
              "      filter: drop-shadow(0px 1px 2px rgba(0, 0, 0, 0.3));\n",
              "      fill: #FFFFFF;\n",
              "    }\n",
              "  </style>\n",
              "\n",
              "      <script>\n",
              "        const buttonEl =\n",
              "          document.querySelector('#df-cf70a6a6-f37c-46ca-b4e8-48eb9cc8a85c button.colab-df-convert');\n",
              "        buttonEl.style.display =\n",
              "          google.colab.kernel.accessAllowed ? 'block' : 'none';\n",
              "\n",
              "        async function convertToInteractive(key) {\n",
              "          const element = document.querySelector('#df-cf70a6a6-f37c-46ca-b4e8-48eb9cc8a85c');\n",
              "          const dataTable =\n",
              "            await google.colab.kernel.invokeFunction('convertToInteractive',\n",
              "                                                     [key], {});\n",
              "          if (!dataTable) return;\n",
              "\n",
              "          const docLinkHtml = 'Like what you see? Visit the ' +\n",
              "            '<a target=\"_blank\" href=https://colab.research.google.com/notebooks/data_table.ipynb>data table notebook</a>'\n",
              "            + ' to learn more about interactive tables.';\n",
              "          element.innerHTML = '';\n",
              "          dataTable['output_type'] = 'display_data';\n",
              "          await google.colab.output.renderOutput(dataTable, element);\n",
              "          const docLink = document.createElement('div');\n",
              "          docLink.innerHTML = docLinkHtml;\n",
              "          element.appendChild(docLink);\n",
              "        }\n",
              "      </script>\n",
              "    </div>\n",
              "  </div>\n",
              "  "
            ]
          },
          "metadata": {},
          "execution_count": 16
        }
      ]
    },
    {
      "cell_type": "markdown",
      "source": [
        "# Data Dictionary\n",
        "\n",
        "Variable Name\tDescription\n",
        "\n",
        "**Item_Identifier**\tUnique product ID\n",
        "\n",
        "**Item_Weight**\tWeight of product\n",
        "\n",
        "**Item_Fat_Content**\tWhether the product is low fat or regular\n",
        "\n",
        "**Item_Visibility**\tThe percentage of total display area of all products in a store allocated to the particular product\n",
        "\n",
        "**Item_Type**\tThe category to which the product belongs\n",
        "\n",
        "**Item_MRP**\tMaximum Retail Price (list price) of the product\n",
        "\n",
        "**Outlet_Identifier**\tUnique store ID\n",
        "\n",
        "**Outlet_Establishment_Year**\tThe year in which store was established\n",
        "\n",
        "**Outlet_Size**\tThe size of the store in terms of ground area covered\n",
        "\n",
        "**Outlet_Location_Type**\tThe type of area in which the store is located\n",
        "\n",
        "**Outlet_Type**\tWhether the outlet is a grocery store or some sort of supermarket\n",
        "\n",
        "**Item_Outlet_Sales**\tSales of the product in the particular store. This is the target variable to be predicted."
      ],
      "metadata": {
        "id": "3k5JtFZD0sl8"
      }
    },
    {
      "cell_type": "code",
      "source": [
        "df.head(2)"
      ],
      "metadata": {
        "colab": {
          "base_uri": "https://localhost:8080/",
          "height": 211
        },
        "id": "2u1X6UHr1jKk",
        "outputId": "cbdd7eb3-422c-4228-cd5f-12b3f6f4dd35"
      },
      "execution_count": 18,
      "outputs": [
        {
          "output_type": "execute_result",
          "data": {
            "text/plain": [
              "  Item_Identifier  Item_Weight Item_Fat_Content  Item_Visibility    Item_Type  \\\n",
              "0           FDA15         9.30          Low Fat         0.016047        Dairy   \n",
              "1           DRC01         5.92          Regular         0.019278  Soft Drinks   \n",
              "\n",
              "   Item_MRP Outlet_Identifier  Outlet_Establishment_Year Outlet_Size  \\\n",
              "0  249.8092            OUT049                       1999      Medium   \n",
              "1   48.2692            OUT018                       2009      Medium   \n",
              "\n",
              "  Outlet_Location_Type        Outlet_Type  Item_Outlet_Sales  \n",
              "0               Tier 1  Supermarket Type1          3735.1380  \n",
              "1               Tier 3  Supermarket Type2           443.4228  "
            ],
            "text/html": [
              "\n",
              "  <div id=\"df-8d85af47-e659-4da9-b7cf-91e0ede34a60\">\n",
              "    <div class=\"colab-df-container\">\n",
              "      <div>\n",
              "<style scoped>\n",
              "    .dataframe tbody tr th:only-of-type {\n",
              "        vertical-align: middle;\n",
              "    }\n",
              "\n",
              "    .dataframe tbody tr th {\n",
              "        vertical-align: top;\n",
              "    }\n",
              "\n",
              "    .dataframe thead th {\n",
              "        text-align: right;\n",
              "    }\n",
              "</style>\n",
              "<table border=\"1\" class=\"dataframe\">\n",
              "  <thead>\n",
              "    <tr style=\"text-align: right;\">\n",
              "      <th></th>\n",
              "      <th>Item_Identifier</th>\n",
              "      <th>Item_Weight</th>\n",
              "      <th>Item_Fat_Content</th>\n",
              "      <th>Item_Visibility</th>\n",
              "      <th>Item_Type</th>\n",
              "      <th>Item_MRP</th>\n",
              "      <th>Outlet_Identifier</th>\n",
              "      <th>Outlet_Establishment_Year</th>\n",
              "      <th>Outlet_Size</th>\n",
              "      <th>Outlet_Location_Type</th>\n",
              "      <th>Outlet_Type</th>\n",
              "      <th>Item_Outlet_Sales</th>\n",
              "    </tr>\n",
              "  </thead>\n",
              "  <tbody>\n",
              "    <tr>\n",
              "      <th>0</th>\n",
              "      <td>FDA15</td>\n",
              "      <td>9.30</td>\n",
              "      <td>Low Fat</td>\n",
              "      <td>0.016047</td>\n",
              "      <td>Dairy</td>\n",
              "      <td>249.8092</td>\n",
              "      <td>OUT049</td>\n",
              "      <td>1999</td>\n",
              "      <td>Medium</td>\n",
              "      <td>Tier 1</td>\n",
              "      <td>Supermarket Type1</td>\n",
              "      <td>3735.1380</td>\n",
              "    </tr>\n",
              "    <tr>\n",
              "      <th>1</th>\n",
              "      <td>DRC01</td>\n",
              "      <td>5.92</td>\n",
              "      <td>Regular</td>\n",
              "      <td>0.019278</td>\n",
              "      <td>Soft Drinks</td>\n",
              "      <td>48.2692</td>\n",
              "      <td>OUT018</td>\n",
              "      <td>2009</td>\n",
              "      <td>Medium</td>\n",
              "      <td>Tier 3</td>\n",
              "      <td>Supermarket Type2</td>\n",
              "      <td>443.4228</td>\n",
              "    </tr>\n",
              "  </tbody>\n",
              "</table>\n",
              "</div>\n",
              "      <button class=\"colab-df-convert\" onclick=\"convertToInteractive('df-8d85af47-e659-4da9-b7cf-91e0ede34a60')\"\n",
              "              title=\"Convert this dataframe to an interactive table.\"\n",
              "              style=\"display:none;\">\n",
              "        \n",
              "  <svg xmlns=\"http://www.w3.org/2000/svg\" height=\"24px\"viewBox=\"0 0 24 24\"\n",
              "       width=\"24px\">\n",
              "    <path d=\"M0 0h24v24H0V0z\" fill=\"none\"/>\n",
              "    <path d=\"M18.56 5.44l.94 2.06.94-2.06 2.06-.94-2.06-.94-.94-2.06-.94 2.06-2.06.94zm-11 1L8.5 8.5l.94-2.06 2.06-.94-2.06-.94L8.5 2.5l-.94 2.06-2.06.94zm10 10l.94 2.06.94-2.06 2.06-.94-2.06-.94-.94-2.06-.94 2.06-2.06.94z\"/><path d=\"M17.41 7.96l-1.37-1.37c-.4-.4-.92-.59-1.43-.59-.52 0-1.04.2-1.43.59L10.3 9.45l-7.72 7.72c-.78.78-.78 2.05 0 2.83L4 21.41c.39.39.9.59 1.41.59.51 0 1.02-.2 1.41-.59l7.78-7.78 2.81-2.81c.8-.78.8-2.07 0-2.86zM5.41 20L4 18.59l7.72-7.72 1.47 1.35L5.41 20z\"/>\n",
              "  </svg>\n",
              "      </button>\n",
              "      \n",
              "  <style>\n",
              "    .colab-df-container {\n",
              "      display:flex;\n",
              "      flex-wrap:wrap;\n",
              "      gap: 12px;\n",
              "    }\n",
              "\n",
              "    .colab-df-convert {\n",
              "      background-color: #E8F0FE;\n",
              "      border: none;\n",
              "      border-radius: 50%;\n",
              "      cursor: pointer;\n",
              "      display: none;\n",
              "      fill: #1967D2;\n",
              "      height: 32px;\n",
              "      padding: 0 0 0 0;\n",
              "      width: 32px;\n",
              "    }\n",
              "\n",
              "    .colab-df-convert:hover {\n",
              "      background-color: #E2EBFA;\n",
              "      box-shadow: 0px 1px 2px rgba(60, 64, 67, 0.3), 0px 1px 3px 1px rgba(60, 64, 67, 0.15);\n",
              "      fill: #174EA6;\n",
              "    }\n",
              "\n",
              "    [theme=dark] .colab-df-convert {\n",
              "      background-color: #3B4455;\n",
              "      fill: #D2E3FC;\n",
              "    }\n",
              "\n",
              "    [theme=dark] .colab-df-convert:hover {\n",
              "      background-color: #434B5C;\n",
              "      box-shadow: 0px 1px 3px 1px rgba(0, 0, 0, 0.15);\n",
              "      filter: drop-shadow(0px 1px 2px rgba(0, 0, 0, 0.3));\n",
              "      fill: #FFFFFF;\n",
              "    }\n",
              "  </style>\n",
              "\n",
              "      <script>\n",
              "        const buttonEl =\n",
              "          document.querySelector('#df-8d85af47-e659-4da9-b7cf-91e0ede34a60 button.colab-df-convert');\n",
              "        buttonEl.style.display =\n",
              "          google.colab.kernel.accessAllowed ? 'block' : 'none';\n",
              "\n",
              "        async function convertToInteractive(key) {\n",
              "          const element = document.querySelector('#df-8d85af47-e659-4da9-b7cf-91e0ede34a60');\n",
              "          const dataTable =\n",
              "            await google.colab.kernel.invokeFunction('convertToInteractive',\n",
              "                                                     [key], {});\n",
              "          if (!dataTable) return;\n",
              "\n",
              "          const docLinkHtml = 'Like what you see? Visit the ' +\n",
              "            '<a target=\"_blank\" href=https://colab.research.google.com/notebooks/data_table.ipynb>data table notebook</a>'\n",
              "            + ' to learn more about interactive tables.';\n",
              "          element.innerHTML = '';\n",
              "          dataTable['output_type'] = 'display_data';\n",
              "          await google.colab.output.renderOutput(dataTable, element);\n",
              "          const docLink = document.createElement('div');\n",
              "          docLink.innerHTML = docLinkHtml;\n",
              "          element.appendChild(docLink);\n",
              "        }\n",
              "      </script>\n",
              "    </div>\n",
              "  </div>\n",
              "  "
            ]
          },
          "metadata": {},
          "execution_count": 18
        }
      ]
    },
    {
      "cell_type": "markdown",
      "source": [
        "# Week 3"
      ],
      "metadata": {
        "id": "znohvzjpzPt-"
      }
    },
    {
      "cell_type": "markdown",
      "source": [
        "For Part3, your task is to complete any statistical analyses that might help you understand, explain, or model with your data. This must include at least one of each:\n",
        "\n",
        "Histogram to view the distributions of various features in your dataset.\n",
        "\n",
        "Boxplot to view statistical summaries of various features in your dataset.\n",
        "\n",
        "Heatmap of the correlation between features."
      ],
      "metadata": {
        "id": "_KJaZeqM17VK"
      }
    },
    {
      "cell_type": "markdown",
      "source": [
        "**Analysis**\n",
        "Based in the data dictionary the Item Identifier(it is an ID) will not be analyzed.\n",
        "\n",
        "First, the categorical variables will be analyzed using histograms\n",
        "\n",
        "Item_Fat_Content\n",
        "\n",
        "Item_Type\n",
        "\n",
        "Outlet_Identifier\n",
        "\n",
        "Outlet_Size\n",
        "\n",
        "Outlet_Location_Type\n",
        "\n",
        "Outlet_Type"
      ],
      "metadata": {
        "id": "nN3r0yHL2kCK"
      }
    },
    {
      "cell_type": "code",
      "source": [
        "import matplotlib.pyplot as plt\n",
        "import seaborn as sns\n",
        "sns.set(rc={'figure.figsize':(14,14)})\n",
        "\n",
        "fig, axs = plt.subplots(squeeze=False,nrows=2,ncols=3)\n",
        "\n",
        "a=sns.histplot(df['Item_Fat_Content'],ax=axs[0,0])\n",
        "b=sns.histplot(df['Item_Type'],ax=axs[0,1])\n",
        "c=sns.histplot(df['Outlet_Identifier'],ax=axs[0,2])\n",
        "d=sns.histplot(df['Outlet_Size'],ax=axs[1,0])\n",
        "e=sns.histplot(df['Outlet_Location_Type'],ax=axs[1,1])\n",
        "f=sns.histplot(df['Outlet_Type'],ax=axs[1,2])\n",
        "\n",
        "graphs=[a,b,c,d,e,f]\n",
        "for graph in graphs:\n",
        "    graph.set(ylabel='') \n",
        "    graph.xaxis.grid(False)\n",
        "b.tick_params(axis='x', rotation=90)\n",
        "c.tick_params(axis='x', rotation=90)\n",
        "f.tick_params(axis='x', rotation=45)\n",
        "\n",
        "fig.tight_layout()\n",
        "plt.show\n",
        "\n",
        "\n"
      ],
      "metadata": {
        "colab": {
          "base_uri": "https://localhost:8080/",
          "height": 1000
        },
        "id": "ylRLbyS2zZ7G",
        "outputId": "b14468d2-7cd4-4a73-875b-4accde5552bd"
      },
      "execution_count": 98,
      "outputs": [
        {
          "output_type": "execute_result",
          "data": {
            "text/plain": [
              "<function matplotlib.pyplot.show>"
            ]
          },
          "metadata": {},
          "execution_count": 98
        },
        {
          "output_type": "display_data",
          "data": {
            "text/plain": [
              "<Figure size 1008x1008 with 6 Axes>"
            ],
            "image/png": "[encoded data removed]"
          },
          "metadata": {}
        }
      ]
    },
    {
      "cell_type": "markdown",
      "source": [
        "Analyzing the image above:\n",
        "\n",
        "Item_Fat_Content-> most of the products are low fat\n",
        "\n",
        "Item_Type-> most of the products are categorized as Fruits and vegetables,household, snaks Food and frozen foods\n",
        "\n",
        "Outlet_Identifier-> all products are well distributed between all the stores\n",
        "\n",
        "Outlet_Size-> More 50% of the are in small outlet\n",
        "\n",
        "Location_Type->location is distributed even between the 3 tiers\n",
        "\n",
        "Outlet_type-> more than 50% values are supermarket_type_1\n"
      ],
      "metadata": {
        "id": "-UZxd-_LK3xQ"
      }
    },
    {
      "cell_type": "markdown",
      "source": [
        "The next part of the analysis will be for the numerical variables"
      ],
      "metadata": {
        "id": "6r4fY0ejQ8mm"
      }
    },
    {
      "cell_type": "code",
      "source": [
        "fig, axs = plt.subplots(squeeze=False,nrows=2,ncols=2)\n",
        "\n",
        "a=sns.histplot(df['Item_Weight'],ax=axs[0,0])\n",
        "b=sns.histplot(df['Item_Visibility'],ax=axs[0,1])\n",
        "c=sns.histplot(df['Item_MRP'],ax=axs[1,0])\n",
        "d=sns.histplot(df['Outlet_Establishment_Year'],ax=axs[1,1])\n",
        "\n",
        "graphs=[a,b,c,d]\n",
        "for graph in graphs:\n",
        "    graph.set(ylabel='') \n",
        "    graph.xaxis.grid(False)\n",
        "\n",
        "\n",
        "fig.tight_layout()\n",
        "plt.show"
      ],
      "metadata": {
        "colab": {
          "base_uri": "https://localhost:8080/",
          "height": 1000
        },
        "id": "RpACPT7gK2zF",
        "outputId": "483e5c73-6e44-4a37-c69a-eef213119282"
      },
      "execution_count": 100,
      "outputs": [
        {
          "output_type": "execute_result",
          "data": {
            "text/plain": [
              "<function matplotlib.pyplot.show>"
            ]
          },
          "metadata": {},
          "execution_count": 100
        },
        {
          "output_type": "display_data",
          "data": {
            "text/plain": [
              "<Figure size 1008x1008 with 4 Axes>"
            ],
            "image/png": "[encoded data removed]"
          },
          "metadata": {}
        }
      ]
    },
    {
      "cell_type": "markdown",
      "source": [
        "Item_Weight-> is distributed even except for a value around 12.5 that is the most repeated value (following a \"normal\" dsitribution\")\n",
        "\n",
        "Item_Visibility is skewed right meaning that most of the produts have a low visibility\n",
        "\n",
        "Max Retail Price-> more or less even distribution of prices'\n",
        "\n",
        "Year->not a lot to describe from the year variable it can be consider a categorical variable"
      ],
      "metadata": {
        "id": "xVdX5FRIWW1F"
      }
    },
    {
      "cell_type": "markdown",
      "source": [
        "Box plots of Numerical Variables"
      ],
      "metadata": {
        "id": "qmO6WRCacDtx"
      }
    },
    {
      "cell_type": "code",
      "source": [
        "fig, axs2 = plt.subplots(1,3,squeeze=False)\n",
        "a=sns.boxplot( y='Item_Weight', data=df,\n",
        "           saturation=5,\n",
        "           notch=True,\n",
        "           medianprops=dict(color=\"yellow\", alpha=2),\n",
        "           ax=axs2[0,0])\n",
        "b=sns.boxplot( y='Item_Visibility', data=df,\n",
        "           saturation=5,\n",
        "           notch=True,\n",
        "           medianprops=dict(color=\"yellow\", alpha=2),\n",
        "           ax=axs2[0,1])\n",
        "c=sns.boxplot( y='Item_MRP', data=df,\n",
        "           saturation=5,\n",
        "           notch=True,\n",
        "           medianprops=dict(color=\"yellow\", alpha=2),\n",
        "           ax=axs2[0,2])\n",
        "\n",
        "a.set(xlabel='Item_Weight',)\n",
        "b.set(xlabel='Item_Visibility',)\n",
        "c.set(xlabel='Item_MRP',)\n",
        "\n",
        "plt.show"
      ],
      "metadata": {
        "colab": {
          "base_uri": "https://localhost:8080/",
          "height": 835
        },
        "id": "Bsm8ZJU4cC_m",
        "outputId": "bda05ac4-aee7-47d9-cbdf-7d7fb1b3abe8"
      },
      "execution_count": 103,
      "outputs": [
        {
          "output_type": "execute_result",
          "data": {
            "text/plain": [
              "<function matplotlib.pyplot.show>"
            ]
          },
          "metadata": {},
          "execution_count": 103
        },
        {
          "output_type": "display_data",
          "data": {
            "text/plain": [
              "<Figure size 1008x1008 with 3 Axes>"
            ],
            "image/png": "[encoded data removed]"
          },
          "metadata": {}
        }
      ]
    },
    {
      "cell_type": "markdown",
      "source": [
        "Looking at the box plots, the previous analysis with the histograms can be confirmed.\n",
        "\n",
        "Item Weight media is around 12.5, there are lot of outliers in item visibility causing the skewed rigth. "
      ],
      "metadata": {
        "id": "3MyV7CA5g-rT"
      }
    },
    {
      "cell_type": "markdown",
      "source": [
        "Quick Boxplots comibining categorical and numerical value"
      ],
      "metadata": {
        "id": "6lsx4_KEnzg7"
      }
    },
    {
      "cell_type": "code",
      "source": [
        "a=sns.boxplot(x='Item_Fat_Content', y='Item_Weight', data=df,\n",
        "           saturation=5,\n",
        "           notch=True,\n",
        "           medianprops=dict(color=\"yellow\", alpha=2),\n",
        "           )\n",
        "\n",
        "b=sns.boxplot(x='Outlet_Size', y='Item_Weight', data=df,\n",
        "           saturation=5,\n",
        "           notch=True,\n",
        "           medianprops=dict(color=\"yellow\", alpha=2),\n",
        "           )\n",
        "c=sns.boxplot(x='Outlet_Location_Type', y='Item_Weight', data=df,\n",
        "           saturation=5,\n",
        "           notch=True,\n",
        "           medianprops=dict(color=\"yellow\", alpha=2),\n",
        "           )\n",
        "list=[a,b,c]\n",
        "\n",
        "for x in list:\n",
        "  for patch in x.artists:\n",
        "    r, g, b, a = patch.get_facecolor()\n",
        "    patch.set_facecolor((r, g, b, .5))\n"
      ],
      "metadata": {
        "colab": {
          "base_uri": "https://localhost:8080/",
          "height": 828
        },
        "id": "HzsYuBXIinIA",
        "outputId": "1ecbab13-858b-48a9-e651-14a499dcc3d7"
      },
      "execution_count": 110,
      "outputs": [
        {
          "output_type": "display_data",
          "data": {
            "text/plain": [
              "<Figure size 1008x1008 with 1 Axes>"
            ],
            "image/png": "[encoded data removed]"
          },
          "metadata": {}
        }
      ]
    },
    {
      "cell_type": "markdown",
      "source": [
        "Witht the above boxplot,nothing new is found same distribution is followed"
      ],
      "metadata": {
        "id": "p3OaNNx1n6at"
      }
    },
    {
      "cell_type": "markdown",
      "source": [
        "Heated Maps"
      ],
      "metadata": {
        "id": "wT700MjMgja_"
      }
    },
    {
      "cell_type": "code",
      "source": [
        "corr = df.corr()\n",
        "sns.heatmap(corr, cmap = 'Greens', annot = True)"
      ],
      "metadata": {
        "colab": {
          "base_uri": "https://localhost:8080/",
          "height": 833
        },
        "id": "Pv8NN4TagdzI",
        "outputId": "146af313-d90c-4386-f85b-cb1fd3425908"
      },
      "execution_count": 102,
      "outputs": [
        {
          "output_type": "execute_result",
          "data": {
            "text/plain": [
              "<matplotlib.axes._subplots.AxesSubplot at 0x7f83323017d0>"
            ]
          },
          "metadata": {},
          "execution_count": 102
        },
        {
          "output_type": "display_data",
          "data": {
            "text/plain": [
              "<Figure size 1008x1008 with 2 Axes>"
            ],
            "image/png": "[encoded data removed]"
          },
          "metadata": {}
        }
      ]
    },
    {
      "cell_type": "markdown",
      "source": [
        "The only correlation is between Max Retail price and the Outlet Sales, which doesn't tell a lot because it is kind of obvious that if the price increase the sales will go up."
      ],
      "metadata": {
        "id": "HjjQpjsViVY1"
      }
    },
    {
      "cell_type": "markdown",
      "source": [
        ""
      ],
      "metadata": {
        "id": "bLUw7cQrnYkn"
      }
    },
    {
      "cell_type": "code",
      "source": [
        ""
      ],
      "metadata": {
        "id": "-cKB5Q7miKaf"
      },
      "execution_count": null,
      "outputs": []
    }
  ]
}